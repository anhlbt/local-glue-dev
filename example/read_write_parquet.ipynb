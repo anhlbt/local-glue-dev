{
 "cells": [
  {
   "cell_type": "code",
   "execution_count": 1,
   "metadata": {},
   "outputs": [],
   "source": [
    "from pyspark.sql import SparkSession\n",
    "spark = SparkSession.builder.getOrCreate()"
   ]
  },
  {
   "cell_type": "code",
   "execution_count": 2,
   "metadata": {},
   "outputs": [
    {
     "name": "stderr",
     "output_type": "stream",
     "text": [
      "/usr/local/lib/python3.6/importlib/_bootstrap.py:219: RuntimeWarning: numpy.dtype size changed, may indicate binary incompatibility. Expected 96, got 88\n",
      "  return f(*args, **kwds)\n",
      "/usr/local/lib/python3.6/importlib/_bootstrap.py:219: RuntimeWarning: numpy.dtype size changed, may indicate binary incompatibility. Expected 96, got 88\n",
      "  return f(*args, **kwds)\n"
     ]
    }
   ],
   "source": [
    "df = spark.createDataFrame(\n",
    "    [\n",
    "        (1, 1.87, 'new_york'),\n",
    "        (4, 2.76, 'la'),\n",
    "        (6, 3.3, 'boston'),\n",
    "        (8, 4.1, 'detroit'),\n",
    "        (2, 5.70, 'miami'),\n",
    "        (3, 6.320, 'atlanta')\n",
    "    ],\n",
    "    ('variable_1', \"variable_2\", \"variable_3\")\n",
    ")\n",
    "df.write.mode(\"overwrite\").format(\"parquet\") \\\n",
    "    .option(\"compression\", \"snappy\") \\\n",
    "    .save(f's3://test-bucket/parquet/')"
   ]
  },
  {
   "cell_type": "code",
   "execution_count": 3,
   "metadata": {},
   "outputs": [
    {
     "name": "stdout",
     "output_type": "stream",
     "text": [
      "2021-01-21 12:49:37          0 _SUCCESS\r\n",
      "2021-01-21 12:49:32        457 part-00000-c08f5238-d20a-414e-9f0f-4540400ab66a-c000.snappy.parquet\r\n",
      "2021-01-21 12:49:33        974 part-00001-c08f5238-d20a-414e-9f0f-4540400ab66a-c000.snappy.parquet\r\n",
      "2021-01-21 12:49:34        918 part-00002-c08f5238-d20a-414e-9f0f-4540400ab66a-c000.snappy.parquet\r\n",
      "2021-01-21 12:49:35        956 part-00003-c08f5238-d20a-414e-9f0f-4540400ab66a-c000.snappy.parquet\r\n",
      "2021-01-21 12:49:35        965 part-00005-c08f5238-d20a-414e-9f0f-4540400ab66a-c000.snappy.parquet\r\n",
      "2021-01-21 12:49:36        947 part-00006-c08f5238-d20a-414e-9f0f-4540400ab66a-c000.snappy.parquet\r\n",
      "2021-01-21 12:49:37        965 part-00007-c08f5238-d20a-414e-9f0f-4540400ab66a-c000.snappy.parquet\r\n"
     ]
    }
   ],
   "source": [
    "!aws s3 ls s3://test-bucket/parquet/ --endpoint-url http://localstack:4572"
   ]
  },
  {
   "cell_type": "code",
   "execution_count": 4,
   "metadata": {},
   "outputs": [
    {
     "name": "stdout",
     "output_type": "stream",
     "text": [
      "+----------+----------+----------+\n",
      "|variable_1|variable_2|variable_3|\n",
      "+----------+----------+----------+\n",
      "|         1|      1.87|  new_york|\n",
      "|         8|       4.1|   detroit|\n",
      "|         3|      6.32|   atlanta|\n",
      "|         6|       3.3|    boston|\n",
      "|         2|       5.7|     miami|\n",
      "|         4|      2.76|        la|\n",
      "+----------+----------+----------+\n",
      "\n"
     ]
    }
   ],
   "source": [
    "df2 = spark.read.parquet(f's3://test-bucket/parquet/')\n",
    "df2.show()"
   ]
  },
  {
   "cell_type": "code",
   "execution_count": 5,
   "metadata": {},
   "outputs": [
    {
     "name": "stdout",
     "output_type": "stream",
     "text": [
      "delete: s3://test-bucket/parquet/_SUCCESS\n",
      "delete: s3://test-bucket/parquet/part-00003-c08f5238-d20a-414e-9f0f-4540400ab66a-c000.snappy.parquet\n",
      "delete: s3://test-bucket/parquet/part-00002-c08f5238-d20a-414e-9f0f-4540400ab66a-c000.snappy.parquet\n",
      "delete: s3://test-bucket/parquet/part-00001-c08f5238-d20a-414e-9f0f-4540400ab66a-c000.snappy.parquet\n",
      "delete: s3://test-bucket/parquet/part-00000-c08f5238-d20a-414e-9f0f-4540400ab66a-c000.snappy.parquet\n",
      "delete: s3://test-bucket/parquet/part-00005-c08f5238-d20a-414e-9f0f-4540400ab66a-c000.snappy.parquet\n",
      "delete: s3://test-bucket/parquet/part-00006-c08f5238-d20a-414e-9f0f-4540400ab66a-c000.snappy.parquet\n",
      "delete: s3://test-bucket/parquet/part-00007-c08f5238-d20a-414e-9f0f-4540400ab66a-c000.snappy.parquet\n"
     ]
    }
   ],
   "source": [
    "!aws s3 rm s3://test-bucket/parquet --recursive --endpoint-url http://localstack:4572"
   ]
  }
 ],
 "metadata": {
  "kernelspec": {
   "display_name": "Python 3",
   "language": "python",
   "name": "python3"
  },
  "language_info": {
   "codemirror_mode": {
    "name": "ipython",
    "version": 3
   },
   "file_extension": ".py",
   "mimetype": "text/x-python",
   "name": "python",
   "nbconvert_exporter": "python",
   "pygments_lexer": "ipython3",
   "version": "3.6.10"
  }
 },
 "nbformat": 4,
 "nbformat_minor": 4
}
