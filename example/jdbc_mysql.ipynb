{
 "cells": [
  {
   "cell_type": "code",
   "execution_count": 1,
   "metadata": {},
   "outputs": [],
   "source": [
    "import sys\n",
    "from awsglue.utils import getResolvedOptions\n",
    "from pyspark.sql import SparkSession\n",
    "spark = SparkSession.builder.getOrCreate()"
   ]
  },
  {
   "cell_type": "code",
   "execution_count": 2,
   "metadata": {},
   "outputs": [
    {
     "name": "stdout",
     "output_type": "stream",
     "text": [
      "+------+-------------------+--------+\r\n",
      "| id   | name              | amount |\r\n",
      "+------+-------------------+--------+\r\n",
      "|    1 | Brandon Keller    |     61 |\r\n",
      "|    2 | Kathleen Knight   |     93 |\r\n",
      "|    3 | Timothy Bridges   |     85 |\r\n",
      "|    4 | Mark Powell       |     23 |\r\n",
      "|    5 | Nicole Burgess    |     46 |\r\n",
      "|    6 | Christina Harris  |     80 |\r\n",
      "|    7 | Robert Watson     |     15 |\r\n",
      "|    8 | Brenda Hawkins    |     44 |\r\n",
      "|    9 | Jessica Ramsey    |     93 |\r\n",
      "|   10 | Tiffany Stafford; |     74 |\r\n",
      "+------+-------------------+--------+\r\n"
     ]
    }
   ],
   "source": [
    "!mysql -h db -uroot -ptest -P3306 -e 'select * from office.employee'"
   ]
  },
  {
   "cell_type": "code",
   "execution_count": 3,
   "metadata": {},
   "outputs": [],
   "source": [
    "driver_class = \"com.mysql.jdbc.Driver\"\n",
    "DB_USER      = \"root\"\n",
    "DB_PASSWORD  = \"test\"\n",
    "DB_TABLE     = \"employee\"\n",
    "DB_NAME      = \"office\"\n",
    "jdbc_url     = f\"jdbc:mysql://db/{DB_NAME}\""
   ]
  },
  {
   "cell_type": "code",
   "execution_count": 4,
   "metadata": {},
   "outputs": [],
   "source": [
    "df = spark.read.format(\"jdbc\").options(\n",
    "    url      = jdbc_url,\n",
    "    driver   = driver_class,\n",
    "    dbtable  = DB_TABLE,\n",
    "    user     = DB_USER,\n",
    "    password = DB_PASSWORD\n",
    ").load()"
   ]
  },
  {
   "cell_type": "code",
   "execution_count": 5,
   "metadata": {},
   "outputs": [
    {
     "name": "stdout",
     "output_type": "stream",
     "text": [
      "+---+-----------------+------+\n",
      "| id|             name|amount|\n",
      "+---+-----------------+------+\n",
      "|  1|   Brandon Keller|    61|\n",
      "|  2|  Kathleen Knight|    93|\n",
      "|  3|  Timothy Bridges|    85|\n",
      "|  4|      Mark Powell|    23|\n",
      "|  5|   Nicole Burgess|    46|\n",
      "|  6| Christina Harris|    80|\n",
      "|  7|    Robert Watson|    15|\n",
      "|  8|   Brenda Hawkins|    44|\n",
      "|  9|   Jessica Ramsey|    93|\n",
      "| 10|Tiffany Stafford;|    74|\n",
      "+---+-----------------+------+\n",
      "\n"
     ]
    }
   ],
   "source": [
    "df.show()"
   ]
  },
  {
   "cell_type": "code",
   "execution_count": 6,
   "metadata": {},
   "outputs": [],
   "source": [
    "df.write.mode(\"overwrite\").format(\"parquet\") \\\n",
    "    .option(\"compression\", \"snappy\") \\\n",
    "    .save(\"s3://test-bucket/mysql/\")"
   ]
  },
  {
   "cell_type": "code",
   "execution_count": 7,
   "metadata": {},
   "outputs": [
    {
     "name": "stdout",
     "output_type": "stream",
     "text": [
      "2021-01-21 12:48:13          0 _SUCCESS\r\n",
      "2021-01-21 12:48:12       1078 part-00000-d2a909cc-abda-46c1-a80f-10956465fdff-c000.snappy.parquet\r\n"
     ]
    }
   ],
   "source": [
    "!aws s3 ls s3://test-bucket/mysql/ --endpoint-url http://localstack:4572"
   ]
  }
 ],
 "metadata": {
  "kernelspec": {
   "display_name": "Python 3",
   "language": "python",
   "name": "python3"
  },
  "language_info": {
   "codemirror_mode": {
    "name": "ipython",
    "version": 3
   },
   "file_extension": ".py",
   "mimetype": "text/x-python",
   "name": "python",
   "nbconvert_exporter": "python",
   "pygments_lexer": "ipython3",
   "version": "3.6.10"
  }
 },
 "nbformat": 4,
 "nbformat_minor": 4
}
